{
  "nbformat": 4,
  "nbformat_minor": 0,
  "metadata": {
    "colab": {
      "name": "ImageManipulation.ipynb",
      "provenance": [],
      "authorship_tag": "ABX9TyOOCOhi9UZmNM0W37GTUcUU",
      "include_colab_link": true
    },
    "kernelspec": {
      "name": "python3",
      "display_name": "Python 3"
    },
    "language_info": {
      "name": "python"
    }
  },
  "cells": [
    {
      "cell_type": "markdown",
      "metadata": {
        "id": "view-in-github",
        "colab_type": "text"
      },
      "source": [
        "<a href=\"https://colab.research.google.com/github/frasercrichton/police-and-thieves/blob/dev/ImageManipulation.ipynb\" target=\"_parent\"><img src=\"https://colab.research.google.com/assets/colab-badge.svg\" alt=\"Open In Colab\"/></a>"
      ]
    },
    {
      "cell_type": "markdown",
      "source": [
        "# Create Image Grid\n",
        "\n",
        "Setup"
      ],
      "metadata": {
        "id": "yPuuBTf74BYx"
      }
    },
    {
      "cell_type": "code",
      "execution_count": 40,
      "metadata": {
        "colab": {
          "base_uri": "https://localhost:8080/"
        },
        "id": "Yks6pkEsi2Bu",
        "outputId": "db1b5388-4ead-41be-d777-5cb1269dd557"
      },
      "outputs": [
        {
          "output_type": "stream",
          "name": "stdout",
          "text": [
            "Cloning into 'police-and-thieves'...\n",
            "remote: Enumerating objects: 54, done.\u001b[K\n",
            "remote: Counting objects: 100% (54/54), done.\u001b[K\n",
            "remote: Compressing objects: 100% (45/45), done.\u001b[K\n",
            "remote: Total 54 (delta 14), reused 24 (delta 6), pack-reused 0\u001b[K\n",
            "Unpacking objects: 100% (54/54), done.\n"
          ]
        }
      ],
      "source": [
        "!rm -rf police-and-thieves\n",
        "!git clone --branch dev https://github.com/frasercrichton/police-and-thieves\n",
        "\n",
        "from PIL import Image, ImageDraw\n",
        "import matplotlib.pyplot as plt\n",
        "import numpy as np\n",
        "from PIL import Image\n"
      ]
    },
    {
      "cell_type": "code",
      "source": [
        "project_directory = 'police-and-thieves'\n",
        "\n",
        "\n",
        "PROCESSED_DIRECTORY = 'output'\n",
        "\n",
        "def make_circle(self, input_file, output_file):\n",
        "    try:\n",
        "        image = Image.open(input_file)\n",
        "    except Exception as e:\n",
        "        if hasattr(e, 'message'):\n",
        "            print(f\"{input_file} {e.message}\")\n",
        "            return f\"{input_file} {e.message}\"\n",
        "        else:\n",
        "            print(f\"{input_file} {e}\")\n",
        "            return f\"{input_file} {e}\"\n",
        "\n",
        "    big_size = (image.size[0] * 3, image.size[1] * 3)\n",
        "    mask = Image.new('L', big_size, 0)\n",
        "    draw = ImageDraw.Draw(mask)\n",
        "    draw.ellipse((0, 0) + big_size, fill=255)\n",
        "    mask = mask.resize(image.size, Image.ANTIALIAS)\n",
        "    image.putalpha(mask)\n",
        "    try:\n",
        "        image.save(output_file)\n",
        "        return output_file.replace(self.PROCESSED_DIRECTORY + '/', '')\n",
        "    except Exception as e:\n",
        "        if hasattr(e, 'message'):\n",
        "            print(f\"{input_file} {e.message}\")\n",
        "            return f\"{input_file} {e.message}\"\n",
        "\n",
        "        else:\n",
        "            print(f\"{input_file} {e}\")\n",
        "            return f\"{input_file} {e}\"\n",
        "\n",
        "def add_item(self, fig, spec, image, annotation):\n",
        "    optional_params = dict(xy=(0.5, 0.5),\n",
        "                            va='center',\n",
        "                            ha='center')\n",
        "\n",
        "    ax = fig.add_subplot(spec)\n",
        "    # ax.annotate(annotation, **optional_params)\n",
        "    img = Image.open(image)\n",
        "    img = img.resize((400, 400))\n",
        "    img = np.asarray(img)\n",
        "\n",
        "    ax.imshow(img)\n",
        "    ax.axis('off')\n",
        "\n",
        "def to_grid(self, output_folder, final_images_folder):\n",
        "    fig = plt.figure(constrained_layout=True, figsize=(40., 20.))\n",
        "    spec = fig.add_gridspec(ncols=4, nrows=2)\n",
        "    column = 0\n",
        "    row = 0\n",
        "\n",
        "    self.add_item(fig, spec[0, 0], output_folder + '/Suraj-Patil.png', 'GridSpec[0, 0]')\n",
        "    self.add_item(fig, spec[0, 1], output_folder + '/Khalid-Saifullah.png', 'GridSpec[0, 1]')\n",
        "    self.add_item(fig, spec[0, 2], output_folder + '/borisdayma.png', 'GridSpec[0:, 2]')\n",
        "    self.add_item(fig, spec[0, 3], output_folder + '/Ritobrata-Ghosh.png', 'GridSpec[0:, 3]')\n",
        "    self.add_item(fig, spec[1, 0], output_folder + '/pedro-cuenca.png', 'GridSpec[1:, 0]')\n",
        "    self.add_item(fig, spec[1, 1], output_folder + '/luke-melas-kyriazi.png', 'GridSpec[1:, 1]')\n",
        "    self.add_item(fig, spec[1, 2], output_folder + '/phuc-le-khac.png', 'GridSpec[1:, 2]')\n",
        "    self.add_item(fig, spec[1, 3], output_folder + '/Tanishq-Abraham.png', 'GridSpec[1:, 3]')\n",
        "\n",
        "    fig.savefig(final_images_folder + '/grid.png', bbox_inches='tight')\n"
      ],
      "metadata": {
        "id": "f526wTXSi5en"
      },
      "execution_count": null,
      "outputs": []
    }
  ]
}