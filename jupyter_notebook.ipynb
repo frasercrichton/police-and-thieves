{
  "cells": [
    {
      "cell_type": "markdown",
      "metadata": {
        "colab_type": "text",
        "id": "view-in-github"
      },
      "source": [
        "<a href=\"https://colab.research.google.com/github/frasercrichton/police-and-thieves/blob/main/jupyter_notebook.ipynb\" target=\"_parent\"><img src=\"https://colab.research.google.com/assets/colab-badge.svg\" alt=\"Open In Colab\"/></a>"
      ]
    },
    {
      "cell_type": "markdown",
      "metadata": {},
      "source": [
        "\n",
        "This Notebook is copied from Dave Davies' original made available here:  \n",
        "SOLVED - DALL-E Mini: Too much traffic, please try again by Dave Davies\n",
        "https://wandb.ai/onlineinference/ml-news/reports/Beating-The-DALL-E-Mini-Too-much-traffic-please-try-again---VmlldzoyMTg4Mjkz"
      ]
    },
    {
      "cell_type": "markdown",
      "metadata": {
        "id": "2YfJwuK2VmXI"
      },
      "source": [
        "**NOTICE:** Currently, a wandb API key is required to run this colab (for downloading the models). If you're signed in to a Google account associated with a wandb account, it should work automatically."
      ]
    },
    {
      "cell_type": "markdown",
      "metadata": {
        "id": "FY_l-_0R-69M"
      },
      "source": [
        "[Click Here for full details and a visual walkthrough of this Colab.](https://wandb.ai/onlineinference/ml-news/reports/Beating-The-DALL-E-Mini-Too-much-traffic-please-try-again---VmlldzoyMTg4Mjkz) \n",
        "\n",
        "# Before Starting\n",
        "\n",
        "Click the \"Connect\" text in the upper right to start a runtime session. If you are connected, you'll instead see \"RAM\" and \"Disk\" next to a couple slightly filled up bars.\n",
        "\n",
        "To make sure you are using a GPU, click on that button again to see the resources tab. If \"GPU RAM\" is included in there, you're good to continue. If not, click on \"Change runtime type\" at the bottom of the resources tab and change your \"Hardware accelerator\" to \"GPU\".\n",
        "\n",
        "# If You Run Into Issues\n",
        "\n",
        "If you encounter any errors, open the session resources tab from before and click on \"Manage sessions\". Terminate all sessions listed, then close out and click on the \"Reconnect\" button in the top right. Make sure you're using a GPU, then you may continue through the rest of the Colab.\n",
        "\n",
        "# Credit\n",
        "\n",
        "This Colab is a lightly modified version of the [DALL·E Mini inference pipeline](https://colab.research.google.com/github/borisdayma/dalle-mini/blob/main/tools/inference/inference_pipeline.ipynb). More information about using DALL·E Mini through code can be found at the [DALL·E Mini GitHub repository](https://github.com/borisdayma/dalle-mini)."
      ]
    },
    {
      "cell_type": "markdown",
      "metadata": {
        "id": "Y0G07xZrBY9H"
      },
      "source": [
        "# Initialize\n",
        "\n",
        "Run this code section to initialize everything required to use DALL·E Mini. It may take a minute or so to process. Please wait for it to finish working before continuing.\n",
        "\n",
        "Note: DALL·E Mini is the default option. If you would like to use DALL·E Mega, check the \"USE_MEGA\" box. If you choose to use DALL·E Mega and are not using Colab Pro, you will likely run into RAM errors."
      ]
    },
    {
      "cell_type": "code",
      "execution_count": null,
      "metadata": {
        "id": "fZ_llzS5TcWQ"
      },
      "outputs": [],
      "source": [
        "USE_MEGA = False #@param {type:\"boolean\"}\n",
        "\n",
        "!pip install -q dalle-mini\n",
        "!pip install -q git+https://github.com/patil-suraj/vqgan-jax.git\n",
        "\n",
        "import jax\n",
        "import jax.numpy as jnp\n",
        "import numpy as np\n",
        "import random\n",
        "from dalle_mini import DalleBart, DalleBartProcessor\n",
        "from flax.jax_utils import replicate\n",
        "from flax.training.common_utils import shard_prng_key\n",
        "from functools import partial\n",
        "from google.colab import widgets\n",
        "from PIL import Image\n",
        "from tqdm.notebook import trange\n",
        "from vqgan_jax.modeling_flax_vqgan import VQModel\n",
        "\n",
        "DALLE_MODEL = \"dalle-mini/dalle-mini/mini-1:v0\" if not USE_MEGA else \"dalle-mini/dalle-mini/mega-1-fp16:latest\"\n",
        "DALLE_COMMIT_ID = None\n",
        "VQGAN_REPO = \"dalle-mini/vqgan_imagenet_f16_16384\"\n",
        "VQGAN_COMMIT_ID = \"e93a26e7707683d349bf5d5c41c5b0ef69b677a9\"\n",
        "\n",
        "model, params = DalleBart.from_pretrained(DALLE_MODEL, revision=DALLE_COMMIT_ID, dtype=jnp.float16, _do_init=False)\n",
        "vqgan, vqgan_params = VQModel.from_pretrained(VQGAN_REPO, revision=VQGAN_COMMIT_ID, _do_init=False)\n",
        "params = replicate(params)\n",
        "vqgan_params = replicate(vqgan_params)\n",
        "\n",
        "@partial(jax.pmap, axis_name=\"batch\", static_broadcasted_argnums=(3, 4, 5, 6))\n",
        "def p_generate(tokenized_prompt, key, params, top_k, top_p, temperature, condition_scale):\n",
        "  return model.generate(**tokenized_prompt, prng_key=key, params=params, top_k=top_k, top_p=top_p, temperature=temperature, condition_scale=condition_scale)\n",
        "@partial(jax.pmap, axis_name=\"batch\")\n",
        "def p_decode(indices, params):\n",
        "  return vqgan.decode_code(indices, params=params)\n",
        "\n",
        "seed = random.randint(0, 2**32 - 1)\n",
        "key = jax.random.PRNGKey(seed)\n",
        "processor = DalleBartProcessor.from_pretrained(DALLE_MODEL, revision=DALLE_COMMIT_ID)\n"
      ]
    },
    {
      "cell_type": "markdown",
      "metadata": {
        "id": "YXbes54pDQWj"
      },
      "source": [
        "# Generate Images\n",
        "\n",
        "This is where you can generate images with DALL·E Mini. Enter your prompt into the \"prompt\" field to the right, and run the code block. A grid of 9 images will be produced. The first run may take slightly longer than subsequent runs as the hardware warms up.\n",
        "\n",
        "You can change the prompt and re-run the code as many times as you like without re-running the initialization code above.\n"
      ]
    },
    {
      "cell_type": "markdown",
      "metadata": {},
      "source": [
        "The following code mounts your Google Drive (Mounted at /content/drive) so that you can save and generated images to Drive."
      ]
    },
    {
      "cell_type": "code",
      "execution_count": 2,
      "metadata": {
        "colab": {
          "base_uri": "https://localhost:8080/"
        },
        "id": "QyA0t97BxOCI",
        "outputId": "85067a67-2066-4808-b8d7-5df324f19032"
      },
      "outputs": [
        {
          "name": "stdout",
          "output_type": "stream",
          "text": [
            "Mounted at /content/drive\n"
          ]
        }
      ],
      "source": [
        "from google.colab import drive\n",
        "drive.mount('/content/drive')"
      ]
    },
    {
      "cell_type": "code",
      "execution_count": null,
      "metadata": {
        "colab": {
          "base_uri": "https://localhost:8080/",
          "height": 49,
          "referenced_widgets": [
            "7dda1b975eb14398aa5be6c39462663b",
            "1982ee1e73bc4f94aa3229c28597b84f",
            "c6e8b5bc4e544bc9afe54de438adccc1",
            "546b2fe80a9f4157a666c6f5a07f83e5",
            "5bfe84d5507546c7b5d8215406b8cdc3",
            "8b77449814df431a859e0315028806a0",
            "9bf18461e9f543bf90330c24a1584dbe",
            "5936480a4b3d4dd3b816eb6dc4d54fd0",
            "4be84f451fbd4149bc7109aceec6f6c8",
            "05e05fd1307a477d824d6d009bff3e87",
            "2912f899beb641779bd5cbe6f5a7e91f"
          ]
        },
        "id": "v167Ky4gTkqb",
        "outputId": "e8f0c781-6cf6-4aaf-b7ed-6591e5ae348a"
      },
      "outputs": [
        {
          "data": {
            "application/vnd.jupyter.widget-view+json": {
              "model_id": "7dda1b975eb14398aa5be6c39462663b",
              "version_major": 2,
              "version_minor": 0
            },
            "text/plain": [
              "  0%|          | 0/100 [00:00<?, ?it/s]"
            ]
          },
          "metadata": {},
          "output_type": "display_data"
        }
      ],
      "source": [
        "n_predictions = 100\n",
        "gen_top_k = None\n",
        "gen_top_p = None\n",
        "temperature = None\n",
        "cond_scale = 10.0\n",
        "\n",
        "try:\n",
        "  prompt = \"metropolitan police uk\" #@param {type:\"string\"}\n",
        "  prompts = [prompt]\n",
        "  tokenized_prompts = processor(prompts)\n",
        "  tokenized_prompt = replicate(tokenized_prompts)\n",
        "  images = []\n",
        "  for i in trange(max(n_predictions // jax.device_count(), 1)):\n",
        "    key, subkey = jax.random.split(key)\n",
        "    encoded_images = p_generate(tokenized_prompt, shard_prng_key(subkey), params, gen_top_k, gen_top_p, temperature, cond_scale)\n",
        "    encoded_images = encoded_images.sequences[..., 1:]\n",
        "    decoded_images = p_decode(encoded_images, vqgan_params)\n",
        "    decoded_images = decoded_images.clip(0.0, 1.0).reshape((-1, 256, 256, 3))\n",
        "    for decoded_img in decoded_images:\n",
        "      img = Image.fromarray(np.asarray(decoded_img * 255, dtype=np.uint8))\n",
        "      img.save(\"met-police/\" + str(i) + '.jpg')\n",
        "      images.append(img)\n",
        "  print(prompt)\n",
        "  \n",
        "\n",
        "  grid = widgets.Grid(10, 10)\n",
        "  for i in range(10):\n",
        "    for j in range(10):\n",
        "      with grid.output_to(i, j):\n",
        "        display(images[i*10+j])\n",
        "except NameError:\n",
        "  print(\"Please run the initialization code block first.\")"
      ]
    },
    {
      "cell_type": "code",
      "execution_count": null,
      "metadata": {
        "id": "XWUlMVzjnUoy"
      },
      "outputs": [],
      "source": []
    }
  ],
  "metadata": {
    "accelerator": "GPU",
    "colab": {
      "collapsed_sections": [],
      "include_colab_link": true,
      "name": "DALL·E Mini",
      "provenance": []
    },
    "gpuClass": "standard",
    "kernelspec": {
      "display_name": "Python 3",
      "name": "python3"
    },
    "language_info": {
      "name": "python"
    },
    "widgets": {
      "application/vnd.jupyter.widget-state+json": {
        "05e05fd1307a477d824d6d009bff3e87": {
          "model_module": "@jupyter-widgets/base",
          "model_module_version": "1.2.0",
          "model_name": "LayoutModel",
          "state": {
            "_model_module": "@jupyter-widgets/base",
            "_model_module_version": "1.2.0",
            "_model_name": "LayoutModel",
            "_view_count": null,
            "_view_module": "@jupyter-widgets/base",
            "_view_module_version": "1.2.0",
            "_view_name": "LayoutView",
            "align_content": null,
            "align_items": null,
            "align_self": null,
            "border": null,
            "bottom": null,
            "display": null,
            "flex": null,
            "flex_flow": null,
            "grid_area": null,
            "grid_auto_columns": null,
            "grid_auto_flow": null,
            "grid_auto_rows": null,
            "grid_column": null,
            "grid_gap": null,
            "grid_row": null,
            "grid_template_areas": null,
            "grid_template_columns": null,
            "grid_template_rows": null,
            "height": null,
            "justify_content": null,
            "justify_items": null,
            "left": null,
            "margin": null,
            "max_height": null,
            "max_width": null,
            "min_height": null,
            "min_width": null,
            "object_fit": null,
            "object_position": null,
            "order": null,
            "overflow": null,
            "overflow_x": null,
            "overflow_y": null,
            "padding": null,
            "right": null,
            "top": null,
            "visibility": null,
            "width": null
          }
        },
        "1982ee1e73bc4f94aa3229c28597b84f": {
          "model_module": "@jupyter-widgets/controls",
          "model_module_version": "1.5.0",
          "model_name": "HTMLModel",
          "state": {
            "_dom_classes": [],
            "_model_module": "@jupyter-widgets/controls",
            "_model_module_version": "1.5.0",
            "_model_name": "HTMLModel",
            "_view_count": null,
            "_view_module": "@jupyter-widgets/controls",
            "_view_module_version": "1.5.0",
            "_view_name": "HTMLView",
            "description": "",
            "description_tooltip": null,
            "layout": "IPY_MODEL_8b77449814df431a859e0315028806a0",
            "placeholder": "​",
            "style": "IPY_MODEL_9bf18461e9f543bf90330c24a1584dbe",
            "value": "  6%"
          }
        },
        "2912f899beb641779bd5cbe6f5a7e91f": {
          "model_module": "@jupyter-widgets/controls",
          "model_module_version": "1.5.0",
          "model_name": "DescriptionStyleModel",
          "state": {
            "_model_module": "@jupyter-widgets/controls",
            "_model_module_version": "1.5.0",
            "_model_name": "DescriptionStyleModel",
            "_view_count": null,
            "_view_module": "@jupyter-widgets/base",
            "_view_module_version": "1.2.0",
            "_view_name": "StyleView",
            "description_width": ""
          }
        },
        "4be84f451fbd4149bc7109aceec6f6c8": {
          "model_module": "@jupyter-widgets/controls",
          "model_module_version": "1.5.0",
          "model_name": "ProgressStyleModel",
          "state": {
            "_model_module": "@jupyter-widgets/controls",
            "_model_module_version": "1.5.0",
            "_model_name": "ProgressStyleModel",
            "_view_count": null,
            "_view_module": "@jupyter-widgets/base",
            "_view_module_version": "1.2.0",
            "_view_name": "StyleView",
            "bar_color": null,
            "description_width": ""
          }
        },
        "546b2fe80a9f4157a666c6f5a07f83e5": {
          "model_module": "@jupyter-widgets/controls",
          "model_module_version": "1.5.0",
          "model_name": "HTMLModel",
          "state": {
            "_dom_classes": [],
            "_model_module": "@jupyter-widgets/controls",
            "_model_module_version": "1.5.0",
            "_model_name": "HTMLModel",
            "_view_count": null,
            "_view_module": "@jupyter-widgets/controls",
            "_view_module_version": "1.5.0",
            "_view_name": "HTMLView",
            "description": "",
            "description_tooltip": null,
            "layout": "IPY_MODEL_05e05fd1307a477d824d6d009bff3e87",
            "placeholder": "​",
            "style": "IPY_MODEL_2912f899beb641779bd5cbe6f5a7e91f",
            "value": " 6/100 [1:20:47&lt;21:03:07, 806.25s/it]"
          }
        },
        "5936480a4b3d4dd3b816eb6dc4d54fd0": {
          "model_module": "@jupyter-widgets/base",
          "model_module_version": "1.2.0",
          "model_name": "LayoutModel",
          "state": {
            "_model_module": "@jupyter-widgets/base",
            "_model_module_version": "1.2.0",
            "_model_name": "LayoutModel",
            "_view_count": null,
            "_view_module": "@jupyter-widgets/base",
            "_view_module_version": "1.2.0",
            "_view_name": "LayoutView",
            "align_content": null,
            "align_items": null,
            "align_self": null,
            "border": null,
            "bottom": null,
            "display": null,
            "flex": null,
            "flex_flow": null,
            "grid_area": null,
            "grid_auto_columns": null,
            "grid_auto_flow": null,
            "grid_auto_rows": null,
            "grid_column": null,
            "grid_gap": null,
            "grid_row": null,
            "grid_template_areas": null,
            "grid_template_columns": null,
            "grid_template_rows": null,
            "height": null,
            "justify_content": null,
            "justify_items": null,
            "left": null,
            "margin": null,
            "max_height": null,
            "max_width": null,
            "min_height": null,
            "min_width": null,
            "object_fit": null,
            "object_position": null,
            "order": null,
            "overflow": null,
            "overflow_x": null,
            "overflow_y": null,
            "padding": null,
            "right": null,
            "top": null,
            "visibility": null,
            "width": null
          }
        },
        "5bfe84d5507546c7b5d8215406b8cdc3": {
          "model_module": "@jupyter-widgets/base",
          "model_module_version": "1.2.0",
          "model_name": "LayoutModel",
          "state": {
            "_model_module": "@jupyter-widgets/base",
            "_model_module_version": "1.2.0",
            "_model_name": "LayoutModel",
            "_view_count": null,
            "_view_module": "@jupyter-widgets/base",
            "_view_module_version": "1.2.0",
            "_view_name": "LayoutView",
            "align_content": null,
            "align_items": null,
            "align_self": null,
            "border": null,
            "bottom": null,
            "display": null,
            "flex": null,
            "flex_flow": null,
            "grid_area": null,
            "grid_auto_columns": null,
            "grid_auto_flow": null,
            "grid_auto_rows": null,
            "grid_column": null,
            "grid_gap": null,
            "grid_row": null,
            "grid_template_areas": null,
            "grid_template_columns": null,
            "grid_template_rows": null,
            "height": null,
            "justify_content": null,
            "justify_items": null,
            "left": null,
            "margin": null,
            "max_height": null,
            "max_width": null,
            "min_height": null,
            "min_width": null,
            "object_fit": null,
            "object_position": null,
            "order": null,
            "overflow": null,
            "overflow_x": null,
            "overflow_y": null,
            "padding": null,
            "right": null,
            "top": null,
            "visibility": null,
            "width": null
          }
        },
        "7dda1b975eb14398aa5be6c39462663b": {
          "model_module": "@jupyter-widgets/controls",
          "model_module_version": "1.5.0",
          "model_name": "HBoxModel",
          "state": {
            "_dom_classes": [],
            "_model_module": "@jupyter-widgets/controls",
            "_model_module_version": "1.5.0",
            "_model_name": "HBoxModel",
            "_view_count": null,
            "_view_module": "@jupyter-widgets/controls",
            "_view_module_version": "1.5.0",
            "_view_name": "HBoxView",
            "box_style": "",
            "children": [
              "IPY_MODEL_1982ee1e73bc4f94aa3229c28597b84f",
              "IPY_MODEL_c6e8b5bc4e544bc9afe54de438adccc1",
              "IPY_MODEL_546b2fe80a9f4157a666c6f5a07f83e5"
            ],
            "layout": "IPY_MODEL_5bfe84d5507546c7b5d8215406b8cdc3"
          }
        },
        "8b77449814df431a859e0315028806a0": {
          "model_module": "@jupyter-widgets/base",
          "model_module_version": "1.2.0",
          "model_name": "LayoutModel",
          "state": {
            "_model_module": "@jupyter-widgets/base",
            "_model_module_version": "1.2.0",
            "_model_name": "LayoutModel",
            "_view_count": null,
            "_view_module": "@jupyter-widgets/base",
            "_view_module_version": "1.2.0",
            "_view_name": "LayoutView",
            "align_content": null,
            "align_items": null,
            "align_self": null,
            "border": null,
            "bottom": null,
            "display": null,
            "flex": null,
            "flex_flow": null,
            "grid_area": null,
            "grid_auto_columns": null,
            "grid_auto_flow": null,
            "grid_auto_rows": null,
            "grid_column": null,
            "grid_gap": null,
            "grid_row": null,
            "grid_template_areas": null,
            "grid_template_columns": null,
            "grid_template_rows": null,
            "height": null,
            "justify_content": null,
            "justify_items": null,
            "left": null,
            "margin": null,
            "max_height": null,
            "max_width": null,
            "min_height": null,
            "min_width": null,
            "object_fit": null,
            "object_position": null,
            "order": null,
            "overflow": null,
            "overflow_x": null,
            "overflow_y": null,
            "padding": null,
            "right": null,
            "top": null,
            "visibility": null,
            "width": null
          }
        },
        "9bf18461e9f543bf90330c24a1584dbe": {
          "model_module": "@jupyter-widgets/controls",
          "model_module_version": "1.5.0",
          "model_name": "DescriptionStyleModel",
          "state": {
            "_model_module": "@jupyter-widgets/controls",
            "_model_module_version": "1.5.0",
            "_model_name": "DescriptionStyleModel",
            "_view_count": null,
            "_view_module": "@jupyter-widgets/base",
            "_view_module_version": "1.2.0",
            "_view_name": "StyleView",
            "description_width": ""
          }
        },
        "c6e8b5bc4e544bc9afe54de438adccc1": {
          "model_module": "@jupyter-widgets/controls",
          "model_module_version": "1.5.0",
          "model_name": "FloatProgressModel",
          "state": {
            "_dom_classes": [],
            "_model_module": "@jupyter-widgets/controls",
            "_model_module_version": "1.5.0",
            "_model_name": "FloatProgressModel",
            "_view_count": null,
            "_view_module": "@jupyter-widgets/controls",
            "_view_module_version": "1.5.0",
            "_view_name": "ProgressView",
            "bar_style": "",
            "description": "",
            "description_tooltip": null,
            "layout": "IPY_MODEL_5936480a4b3d4dd3b816eb6dc4d54fd0",
            "max": 100,
            "min": 0,
            "orientation": "horizontal",
            "style": "IPY_MODEL_4be84f451fbd4149bc7109aceec6f6c8",
            "value": 6
          }
        }
      }
    }
  },
  "nbformat": 4,
  "nbformat_minor": 0
}
